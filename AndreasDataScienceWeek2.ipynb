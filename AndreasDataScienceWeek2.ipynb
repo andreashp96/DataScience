{
  "nbformat": 4,
  "nbformat_minor": 0,
  "metadata": {
    "colab": {
      "provenance": []
    },
    "kernelspec": {
      "name": "python3",
      "display_name": "Python 3"
    },
    "language_info": {
      "name": "python"
    }
  },
  "cells": [
    {
      "cell_type": "markdown",
      "source": [
        "# WEEK 2 DATA SCIENCE\n",
        "\n",
        "Fokus pada minggu ini terarah pada berbagai Collection Data Type, Function dan beberapa awalan penting untuk SQL.\n",
        "\n",
        "*   List\n",
        "*   Dictionary\n",
        "*   Tuple\n",
        "*   Set\n",
        "*   Function\n",
        "*   Pengenalan terhadap SQL\n",
        "\n",
        "\n",
        "\n",
        "\n",
        "\n",
        "\n",
        "\n"
      ],
      "metadata": {
        "id": "LRUdQXdQaBtz"
      }
    },
    {
      "cell_type": "markdown",
      "source": [
        "## LIST\n",
        "\n",
        "List merupakan suatu Collection Data Type terurut berdasarkan index dan dapat dipindahkan (mutable). List dinotasikan dengan kurung siku ([]).Untuk analogi mudahnya, misalnya ada 5 buah laci dengan angka 0-4, dan sebuah barang dimasukkan untuk mewakili kriteria tertentu.\n",
        "\n",
        "Di bawah merupakan contoh dan kode untuk memberikan value untuk list baru, menampilkan value pada list, serta untuk mengetahui dan memastikan bahwa list yang disebut identity benar merupakan list.\n"
      ],
      "metadata": {
        "id": "Wh3OipZCbv3g"
      }
    },
    {
      "cell_type": "code",
      "execution_count": 1,
      "metadata": {
        "colab": {
          "base_uri": "https://localhost:8080/"
        },
        "id": "bEjVmiXnA7IR",
        "outputId": "8b0bd6c9-551e-4e78-edbc-e7e895f53b29"
      },
      "outputs": [
        {
          "output_type": "stream",
          "name": "stdout",
          "text": [
            "['Andreas', 27, False, 'Piano', 169.5, 27]\n",
            "<class 'list'>\n"
          ]
        }
      ],
      "source": [
        "identity = ['Andreas', 27, False, 'Piano', 169.5, 27]\n",
        "print(identity)\n",
        "print(type(identity))"
      ]
    },
    {
      "cell_type": "markdown",
      "source": [
        "### INDEXING\n",
        "Menginterpretasikan satu kumpulan value pada list merupakan perkara mudah, tapi untuk menampilkan satu atau sebagian value pada list adalah lain cerita. Ada beberapa cara indexing untuk list, yakni:\n",
        "\n",
        "\n",
        "*   Indexing positif. Perlu diingat: index selalu dimulai dengan 0. Untuk menampilkan sebuah data pada index, kita menulis notasi kode dengan list[index]. Variasi lain melibatkan start dan stop yang menampilkan value dari index start sampai dengan stop, dan value pada stop tidak akan ditampilkan. Notasi untuk ini diberikan dengan list[index_awal: index_akhir].\n",
        "*   Indexing negatif. Perbedaannya, indexing negatif dibaca dari kanan, dan indeks paling akhir biasanya diberikan dengan angka -1. Contohnya list[-1]. Index negatif dan positif dapat digabungkan dengan memberi trik start index positif dan awal index negatif. Notasinya diberikan, misalnya contohnya list[1:-1].\n",
        "*   Indexing dengan satu titik dua(:) memberi notasi untuk menampilkan value pada index yang dicari dari dua cara, yaitu index awal non-0 sampai index terakhir, atau index awal sampai dengan index akhir non-0.\n",
        "Dua contohnya adalah list[2:] atau list[:2].\n",
        "\n",
        "Akan didemonstrasikan contoh-contoh untuk indexing pada kode di bawah berikut:"
      ],
      "metadata": {
        "id": "GFxUbmOGhXaw"
      }
    },
    {
      "cell_type": "code",
      "source": [
        "identity = ['Andreas', 27, False, 'Piano', 169.5, 27]\n",
        "print(identity[0])\n",
        "print(identity[-1])\n",
        "print(identity[0:2])\n",
        "print(identity[3:5])\n",
        "print(identity[-1])\n",
        "print(identity[2:-2])\n",
        "print(identity[:2])\n",
        "print(identity[2:])"
      ],
      "metadata": {
        "colab": {
          "base_uri": "https://localhost:8080/"
        },
        "id": "G9VfrOIljsl0",
        "outputId": "e734f8f4-a521-40b1-9407-71459d33b30b"
      },
      "execution_count": 2,
      "outputs": [
        {
          "output_type": "stream",
          "name": "stdout",
          "text": [
            "Andreas\n",
            "27\n",
            "['Andreas', 27]\n",
            "['Piano', 169.5]\n",
            "27\n",
            "[False, 'Piano']\n",
            "['Andreas', 27]\n",
            "[False, 'Piano', 169.5, 27]\n"
          ]
        }
      ]
    },
    {
      "cell_type": "markdown",
      "source": [],
      "metadata": {
        "id": "kKXMnOVEkaO4"
      }
    },
    {
      "cell_type": "markdown",
      "source": [
        "Untuk mengganti value pada list, ini akan dilakukan dengan 1 cara mudah, yakni memberi list sebuah value pada index yang ingin diganti.\n",
        "\n",
        "Contoh kodenya adalah sebagai berikut:"
      ],
      "metadata": {
        "id": "WoHCklK2kb-E"
      }
    },
    {
      "cell_type": "code",
      "source": [
        "identity = ['Andreas', 27, False, 'Piano', 169.5, 27]\n",
        "print(f'Identity sebelumnya: {identity}')\n",
        "identity[0] = 'Thomas'\n",
        "print(f'Identity sesudahnya: {identity}')"
      ],
      "metadata": {
        "colab": {
          "base_uri": "https://localhost:8080/"
        },
        "id": "aTTEh1QGkpDm",
        "outputId": "6f0661f9-c7b0-46ad-c2e9-48d82eb32e49"
      },
      "execution_count": 3,
      "outputs": [
        {
          "output_type": "stream",
          "name": "stdout",
          "text": [
            "Identity sebelumnya: ['Andreas', 27, False, 'Piano', 169.5, 27]\n",
            "Identity sesudahnya: ['Thomas', 27, False, 'Piano', 169.5, 27]\n"
          ]
        }
      ]
    },
    {
      "cell_type": "markdown",
      "source": [
        "### FUNGSI LIST\n",
        "\n",
        "Tidak hanya mengganti value, list mempunyai kumpulan fungsi tersendiri, yakni:\n",
        "\n",
        "\n",
        "*   Append untuk menambahkan value di index paling belakang. Biasanya dinotasikan dengan nama_list(value).\n",
        "*   Insert, yang fungsinya sama seperti append, tetapi perbedaannya adalah insert mempunyai indeks spesifik untuk dimasukkan.  Dinotasikan dengan nama_list(index, value).\n",
        "\n",
        "*   Pop, yang fungsinya untuk menghapus value terakhir pada list. Dinotasikan dengan nama_list.pop().\n",
        "*   Clear yang fungsinya untuk mengosongkan list. Dinotasikan dengan nama_list.clear().\n",
        "\n",
        "Contoh-contohnya dapat dilihat di kode-kode berikut:\n",
        "\n",
        "\n",
        "\n"
      ],
      "metadata": {
        "id": "pZw53Vo1eOPD"
      }
    },
    {
      "cell_type": "code",
      "source": [
        "# APPEND DAN INSERT\n",
        "identity = ['Andreas', 27, False, 'Piano', 169.5, 27]\n",
        "print(f'Identity awal: {identity}')\n",
        "identity.append('2A')\n",
        "print(f'Identity sesudah append: {identity}')\n",
        "identity.insert(1, 'Male')\n",
        "print(f'Identity sesudah insert pada kolom 1: {identity}')"
      ],
      "metadata": {
        "colab": {
          "base_uri": "https://localhost:8080/"
        },
        "id": "LgL12Z4RlZcN",
        "outputId": "00003916-acbf-4656-abb2-5fd2490eddb3"
      },
      "execution_count": 5,
      "outputs": [
        {
          "output_type": "stream",
          "name": "stdout",
          "text": [
            "Identity awal: ['Andreas', 27, False, 'Piano', 169.5, 27]\n",
            "Identity sesudah append: ['Andreas', 27, False, 'Piano', 169.5, 27, '2A']\n",
            "Identity sesudah insert pada kolom 1: ['Andreas', 'Male', 27, False, 'Piano', 169.5, 27, '2A']\n"
          ]
        }
      ]
    },
    {
      "cell_type": "code",
      "source": [
        "identity = ['Andreas', 27, False, 'Piano', 169.5, 27]\n",
        "print(f'Identity awal: {identity}')\n",
        "identity.pop()\n",
        "print(f'Identity sesudah pop: {identity}')\n",
        "identity.clear()\n",
        "print(f'Identity sesudah insert pada kolom 1: {identity}')"
      ],
      "metadata": {
        "colab": {
          "base_uri": "https://localhost:8080/"
        },
        "id": "Gttp49Edl29n",
        "outputId": "7f40f453-219e-4530-cb5d-80cf54125951"
      },
      "execution_count": 6,
      "outputs": [
        {
          "output_type": "stream",
          "name": "stdout",
          "text": [
            "Identity awal: ['Andreas', 27, False, 'Piano', 169.5, 27]\n",
            "Identity sesudah pop: ['Andreas', 27, False, 'Piano', 169.5]\n",
            "Identity sesudah insert pada kolom 1: []\n"
          ]
        }
      ]
    },
    {
      "cell_type": "markdown",
      "source": [
        "### FUNGSI LAIN PADA LIST\n",
        "\n",
        "\n",
        "*   For loop. Ke dalam bentuk output biasa, seluruh value pada list dapat ditampilkan pada for loop\n",
        "*   In. Fungsi ini biasanya dipasangkan pada if untuk mengetahui apakah terdapat sebuah value pada list.\n",
        "*   Concatenate. Fungsi ini digunakan untuk menggabungkan dua list menjadi satu list gabungan.\n",
        "*   Index finding. Fungsi ini digunakan untuk mencari index yang menampung value yang diinput.\n",
        "\n",
        "\n",
        "\n",
        "Demonstrasi kode dapat dilihat di bawah:\n",
        "\n",
        "\n",
        "\n"
      ],
      "metadata": {
        "id": "zZ_BaJZcmDsr"
      }
    },
    {
      "cell_type": "code",
      "source": [
        "identity = ['Andreas', 27, False, 'Piano', 169.5, 27]\n",
        "\n",
        "# for i in range(len(identity)):\n",
        "#     print(identity[i])\n",
        "\n",
        "# atau\n",
        "\n",
        "for i in identity:\n",
        "  print(i)"
      ],
      "metadata": {
        "colab": {
          "base_uri": "https://localhost:8080/"
        },
        "id": "ztB01J6knD1Z",
        "outputId": "7046e186-8046-49c6-96b1-14f8d5d574f4"
      },
      "execution_count": 10,
      "outputs": [
        {
          "output_type": "stream",
          "name": "stdout",
          "text": [
            "Andreas\n",
            "27\n",
            "False\n",
            "Piano\n",
            "169.5\n",
            "27\n"
          ]
        }
      ]
    },
    {
      "cell_type": "code",
      "source": [
        "identity = ['Andreas', 27, False, 'Piano', 169.5, 27]\n",
        "\n",
        "if 'Piano' in identity:\n",
        "  print('ada piano')\n",
        "else: print('tidak ada piano')"
      ],
      "metadata": {
        "colab": {
          "base_uri": "https://localhost:8080/"
        },
        "id": "0QfmLTzBnD4v",
        "outputId": "09dba83d-9373-4ae1-9b42-798c679da06d"
      },
      "execution_count": 11,
      "outputs": [
        {
          "output_type": "stream",
          "name": "stdout",
          "text": [
            "ada piano\n"
          ]
        }
      ]
    },
    {
      "cell_type": "code",
      "source": [
        "a = [1,2,3]\n",
        "b = [4,5,6]\n",
        "\n",
        "listJoined = a+b\n",
        "print(listJoined)"
      ],
      "metadata": {
        "colab": {
          "base_uri": "https://localhost:8080/"
        },
        "id": "UDVJuSHonD_G",
        "outputId": "6e52c58d-1438-446b-b814-623f34fac6e9"
      },
      "execution_count": 12,
      "outputs": [
        {
          "output_type": "stream",
          "name": "stdout",
          "text": [
            "[1, 2, 3, 4, 5, 6]\n"
          ]
        }
      ]
    },
    {
      "cell_type": "code",
      "source": [
        "identity = ['Andreas', 27, False, 'Piano', 169.5, 27]\n",
        "identity.index(169.5)\n"
      ],
      "metadata": {
        "colab": {
          "base_uri": "https://localhost:8080/"
        },
        "id": "3El9DDRAoENg",
        "outputId": "6d5df8ee-490d-4d3d-b60a-6ce5ba348061"
      },
      "execution_count": 13,
      "outputs": [
        {
          "output_type": "execute_result",
          "data": {
            "text/plain": [
              "4"
            ]
          },
          "metadata": {},
          "execution_count": 13
        }
      ]
    },
    {
      "cell_type": "markdown",
      "source": [
        "### FUNGSI LAIN PADA LIST II\n",
        "\n",
        "\n",
        "*   Sort. Fungsi ini digunakan untuk mensortir abjad atau angka. Hanya digunakan pada list yang mempunyai tipe data yang sama.\n",
        "*   Reverse. Fungsi yang merupakan kebalikan sort.\n",
        "\n",
        "Demonstrasi kode dapat dilihat di bawah:"
      ],
      "metadata": {
        "id": "voXVVhvnoxup"
      }
    },
    {
      "cell_type": "code",
      "source": [
        "listAngka = [15, 12, 30, 24, 45]\n",
        "\n",
        "listAngka.sort()\n",
        "print(listAngka)\n",
        "listAngka.reverse()\n",
        "print(listAngka)"
      ],
      "metadata": {
        "colab": {
          "base_uri": "https://localhost:8080/"
        },
        "id": "hh-7J504pCRg",
        "outputId": "6a64bba3-66fa-4fff-8d06-791b66fa01c0"
      },
      "execution_count": 16,
      "outputs": [
        {
          "output_type": "stream",
          "name": "stdout",
          "text": [
            "[12, 15, 24, 30, 45]\n",
            "[45, 30, 24, 15, 12]\n"
          ]
        }
      ]
    },
    {
      "cell_type": "markdown",
      "source": [
        "### NESTED / 2D LIST\n",
        "\n",
        "List dapat menampung value yang merupakan juga list, yang disebut dengan Nested List atau 2D List. Fungsi-fungsi untuk memasukkan list ke dalam list dapat digunakan pada kode-kode yang disebutkan di atas."
      ],
      "metadata": {
        "id": "EaTbSY0vpdtO"
      }
    },
    {
      "cell_type": "code",
      "source": [
        "nestedList = [['a',1],['b',2]]\n",
        "\n",
        "print(nestedList)\n",
        "print(nestedList[0][1])\n",
        "print(nestedList[1][1])"
      ],
      "metadata": {
        "colab": {
          "base_uri": "https://localhost:8080/"
        },
        "id": "36AwtdrKpzB6",
        "outputId": "692514ec-9f40-44cb-bebf-262c77495b60"
      },
      "execution_count": 19,
      "outputs": [
        {
          "output_type": "stream",
          "name": "stdout",
          "text": [
            "[['a', 1], ['b', 2]]\n",
            "1\n",
            "2\n"
          ]
        }
      ]
    },
    {
      "cell_type": "markdown",
      "source": [
        "## DICTIONARY\n",
        "\n",
        "Dictionary merupakan suatu Collection Data Type tidak mempunyai index, sebagai gantinya, sistem urutan diganti dengan sebuah penanda khusus, yaitu key yang mengangkut satu value. Dictionary dinotasikan dengan kurung kurawal ({}). Untuk analogi mudahnya, misalnya ada 5 buah laci dengan tulisan sebagai berikut: nama, usia, status pernikahan, hobi, dan tinggi, dan sebuah barang dimasukkan untuk mewakili kriteria tertentu, sama seperti List. Dictionary dapat diketahui dengan adanya pasangan key-value.\n",
        "\n",
        "Di bawah merupakan contoh dan kode untuk memberikan value untuk dict baru, menampilkan value pada dict, serta untuk mengetahui dan memastikan bahwa dict yang disebut identity benar merupakan list."
      ],
      "metadata": {
        "id": "oNm2MkSTqTML"
      }
    },
    {
      "cell_type": "code",
      "source": [
        "identity = {\n",
        "    'name': 'Andreas',\n",
        "    'age': 27,\n",
        "    'hobby': 'Piano',\n",
        "}\n",
        "\n",
        "print(identity)\n",
        "print(type(identity))"
      ],
      "metadata": {
        "colab": {
          "base_uri": "https://localhost:8080/"
        },
        "id": "M6MT8KMxq0rC",
        "outputId": "6620aca3-f5f9-48fb-8e92-e8e7ed8b9dc5"
      },
      "execution_count": 22,
      "outputs": [
        {
          "output_type": "stream",
          "name": "stdout",
          "text": [
            "{'name': 'Andreas', 'age': 27, 'hobby': 'Piano'}\n",
            "<class 'dict'>\n"
          ]
        }
      ]
    },
    {
      "cell_type": "markdown",
      "source": [
        "### ADD VALUE PADA DICTIONARY\n",
        "\n",
        "Untuk menambahkan value pada dictionary, caranya hanya dengan memasukkan sebuah key dan value baru pada dictionary dengan kode namaDict['namaKey']='namaValue'."
      ],
      "metadata": {
        "id": "ZkiibXzrrYGL"
      }
    },
    {
      "cell_type": "code",
      "source": [
        "identity = {\n",
        "    'name': 'Andreas',\n",
        "    'age': 27,\n",
        "    'hobby': 'Piano',\n",
        "}\n",
        "\n",
        "identity['gender']='Male'\n",
        "print(identity)"
      ],
      "metadata": {
        "colab": {
          "base_uri": "https://localhost:8080/"
        },
        "id": "kppV8vy_rpoq",
        "outputId": "a981c67a-558f-473e-a885-e6e313480458"
      },
      "execution_count": 23,
      "outputs": [
        {
          "output_type": "stream",
          "name": "stdout",
          "text": [
            "{'name': 'Andreas', 'age': 27, 'hobby': 'Piano', 'gender': 'Male'}\n"
          ]
        }
      ]
    },
    {
      "cell_type": "markdown",
      "source": [
        "### REMOVE VALUE PADA DICTIONARY\n",
        "\n",
        "Untuk menghilangkan value pada dictionary, terdapat banyak cara, yakni\n",
        "\n",
        "\n",
        "* del dan Pop untuk menghilangkan pasangan key-value pada key.\n",
        "* Popitem untuk menghilangkan pasangan key-value terakhir pada dict.\n",
        "* Clear untuk mengosongkan dictionary.\n",
        "\n"
      ],
      "metadata": {
        "id": "80MltJyJr9Gg"
      }
    },
    {
      "cell_type": "code",
      "source": [
        "identity = {\n",
        "    'name': 'Andreas',\n",
        "    'age': 27,\n",
        "    'hobby': 'Piano',\n",
        "    'gender': 'Male',\n",
        "    'class': '2A'\n",
        "}\n",
        "\n",
        "identity.popitem()\n",
        "print(identity)\n",
        "identity.pop('age')\n",
        "print(identity)\n",
        "del identity['hobby']\n",
        "print(identity)\n",
        "identity.clear()\n",
        "print(identity)"
      ],
      "metadata": {
        "colab": {
          "base_uri": "https://localhost:8080/"
        },
        "id": "fQABpaLasee7",
        "outputId": "70cfd5c1-f0b1-4625-e225-543bd032f367"
      },
      "execution_count": 25,
      "outputs": [
        {
          "output_type": "stream",
          "name": "stdout",
          "text": [
            "{'name': 'Andreas', 'age': 27, 'hobby': 'Piano', 'gender': 'Male'}\n",
            "{'name': 'Andreas', 'hobby': 'Piano', 'gender': 'Male'}\n",
            "{'name': 'Andreas', 'gender': 'Male'}\n",
            "{}\n"
          ]
        }
      ]
    },
    {
      "cell_type": "markdown",
      "source": [
        "### FUNGSI LAIN PADA DICTIONARY\n",
        "\n",
        "Sama seperti list, fungsi lain yang dapat digunakan untuk dict sebagai berikut:\n",
        "\n",
        "*   For loop. Ke dalam bentuk output biasa, seluruh value pada list dapat ditampilkan pada for loop\n",
        "*   In. Fungsi ini biasanya dipasangkan pada if untuk mengetahui apakah terdapat sebuah value pada list.\n",
        "*   Length. Fungsi ini digunakan untuk mencari panjang dictionary.\n",
        "\n",
        "\n",
        "\n",
        "Demonstrasi kode dapat dilihat di bawah:"
      ],
      "metadata": {
        "id": "AXRzYfG4u1AN"
      }
    },
    {
      "cell_type": "code",
      "source": [
        "identity = {\n",
        "    'name': 'Andreas',\n",
        "    'age': 27,\n",
        "    'hobby': 'Piano',\n",
        "    'gender': 'Male',\n",
        "    'class': '2A'\n",
        "}\n",
        "\n",
        "for val in identity.values():\n",
        "  print(val)\n",
        "\n",
        "for key,val in identity.items():\n",
        "  print(\"{}={}\".format(key,val))"
      ],
      "metadata": {
        "colab": {
          "base_uri": "https://localhost:8080/"
        },
        "id": "vHadfxnevOU3",
        "outputId": "97d0e56c-09fa-44bf-e90f-e04bf4ac4837"
      },
      "execution_count": 29,
      "outputs": [
        {
          "output_type": "stream",
          "name": "stdout",
          "text": [
            "Andreas\n",
            "27\n",
            "Piano\n",
            "Male\n",
            "2A\n",
            "name=Andreas\n",
            "age=27\n",
            "hobby=Piano\n",
            "gender=Male\n",
            "class=2A\n"
          ]
        }
      ]
    },
    {
      "cell_type": "markdown",
      "source": [
        "### NESTED DICTIONARY\n",
        "\n",
        "Nested dictionary merupakan dictionary dalam dictionary, sama seperti list. Key pada dictionary berisi dictionary baru yang terdiri dari sejumlah sub-key dan sub-value.\n"
      ],
      "metadata": {
        "id": "oYv55vqewBbh"
      }
    },
    {
      "cell_type": "code",
      "source": [
        "identity = {\n",
        "    'name': 'Andreas',\n",
        "    'age': 27,\n",
        "    'hobby': {1:'Piano', 2:'Cycling', 3:'Gaming'},\n",
        "    'gender': 'Male',\n",
        "    'class': '2A'\n",
        "}\n",
        "\n",
        "print(identity['hobby'])\n",
        "print('\\n')\n",
        "for key,val in identity['hobby'].items():\n",
        "  print(\"{} = {}\".format(key,val))"
      ],
      "metadata": {
        "colab": {
          "base_uri": "https://localhost:8080/"
        },
        "id": "4rzaScX9wFw2",
        "outputId": "d5373156-d78e-4f38-e5e3-74efceb356de"
      },
      "execution_count": 33,
      "outputs": [
        {
          "output_type": "stream",
          "name": "stdout",
          "text": [
            "{1: 'Piano', 2: 'Cycling', 3: 'Gaming'}\n",
            "\n",
            "\n",
            "1 = Piano\n",
            "2 = Cycling\n",
            "3 = Gaming\n"
          ]
        }
      ]
    },
    {
      "cell_type": "markdown",
      "source": [
        "## TUPLE\n",
        "\n",
        "Tuple dapat dideskripsikan sebagai Collection Data Type dimana valuenya tidak dapat diganti(immutable). Tuple dinotasikan dengan tanda kurung (()). Fungsi untuk memanipulasi list seperti penambahan, pengurangan dan pembacaan value juga dapat digunakan untuk tuple."
      ],
      "metadata": {
        "id": "AqvT8N8tw3kt"
      }
    },
    {
      "cell_type": "code",
      "source": [
        "identity=('Andreas',27,'Piano')\n",
        "print(identity)\n",
        "print(type(identity))"
      ],
      "metadata": {
        "colab": {
          "base_uri": "https://localhost:8080/"
        },
        "id": "n9uj6syvxFZ4",
        "outputId": "1b858813-411a-467a-c45e-d8d1475b1827"
      },
      "execution_count": 35,
      "outputs": [
        {
          "output_type": "stream",
          "name": "stdout",
          "text": [
            "('Andreas', 27, 'Piano')\n",
            "<class 'tuple'>\n"
          ]
        }
      ]
    },
    {
      "cell_type": "markdown",
      "source": [
        "## SET\n",
        "\n",
        "Set, merupakan Collection Data Type yang tidak mempunyai urutan index tersendiri, dan juga tidak mendukung adanya nilai duplikat. Dalam bahasa matematika, Set disebut himpunan, dan operasi-operasi untuk matematika justru digunakan untuk dua lebih set. Set dinotasikan dengan kurung kurawal ({}) tanpa pasangan key-value pada dictionary.\n",
        "\n",
        "Asumsikan ada dua buah set untuk kode di bawah:"
      ],
      "metadata": {
        "id": "6M3tINBwyd2K"
      }
    },
    {
      "cell_type": "code",
      "source": [
        "setA = {'a','b','c','d'}\n",
        "setB = {'c','d','e','f'}\n",
        "\n",
        "print(setA)\n",
        "print(setB)\n",
        "print(type(setA))"
      ],
      "metadata": {
        "colab": {
          "base_uri": "https://localhost:8080/"
        },
        "id": "m4x5CMpV2B2E",
        "outputId": "e49792b9-5e88-435b-e72e-036bf42a91e5"
      },
      "execution_count": 36,
      "outputs": [
        {
          "output_type": "stream",
          "name": "stdout",
          "text": [
            "{'d', 'c', 'a', 'b'}\n",
            "{'d', 'c', 'e', 'f'}\n",
            "<class 'set'>\n"
          ]
        }
      ]
    },
    {
      "cell_type": "markdown",
      "source": [
        "Kurang lebih fungsi untuk Set hampir sama seperti Dict dan List, tetapi ada sedikit perbedaan: pada fungsi untuk menghapus value pada set, terdapat discard dan remove, tujuannya sama, tetapi remove akan menghasilkan nilai error jika tidak ada value pada set, sedangkan discard tidak.\n",
        "\n",
        "Untuk metode-metode khusus pada set, berikut dilampirkan contohnya:\n",
        "\n",
        "\n",
        "*   Difference untuk menampilkan value yang berbeda pada dua set, hanya pada perspektif pada satu set, yang tidak melibatkan intersection/irisan.\n",
        "*   Symmetric difference untuk menampilkan value yang berbeda pada dua set secara simetris.\n",
        "*   Intersection, yang merupakan irisan pada set 1 dan 2, yang berarti nilai yang sama pada set-set tersebut.\n",
        "*   Union, yang merupakan gabungan semua nilai yang tercantum pada set 1 dan 2, termasuk intersection/irisan.\n",
        "\n",
        "Berikut contoh-contohnya dalam kode:\n"
      ],
      "metadata": {
        "id": "4Ks0thRS2ZgD"
      }
    },
    {
      "cell_type": "code",
      "source": [
        "setA = {'a','b','c','d'}\n",
        "setB = {'c','d','e','f'}\n",
        "\n",
        "print(setA)\n",
        "print(setB)\n",
        "\n",
        "print(f\"setA difference setB = {setA.difference(setB)}\")\n",
        "print(f\"setB difference setA = {setB.difference(setA)}\")\n",
        "print(f\"setA symmetric difference setB = {setA.symmetric_difference(setB)}\")\n",
        "print(f\"setA intersection setB = {setA.intersection(setB)}\")\n",
        "print(f\"setA union setB = {setA.union(setB)}\")"
      ],
      "metadata": {
        "colab": {
          "base_uri": "https://localhost:8080/"
        },
        "id": "_Jaw2aAg4gOb",
        "outputId": "aebe631b-7521-410c-ac78-47b4311b93f9"
      },
      "execution_count": 38,
      "outputs": [
        {
          "output_type": "stream",
          "name": "stdout",
          "text": [
            "{'d', 'c', 'a', 'b'}\n",
            "{'d', 'c', 'e', 'f'}\n",
            "setA difference setB = {'a', 'b'}\n",
            "setB difference setA = {'e', 'f'}\n",
            "setA symmetric difference setB = {'a', 'e', 'b', 'f'}\n",
            "setA intersection setB = {'d', 'c'}\n",
            "setA union setB = {'c', 'f', 'd', 'a', 'e', 'b'}\n"
          ]
        }
      ]
    },
    {
      "cell_type": "markdown",
      "source": [
        "## FUNCTION\n",
        "\n",
        "Dalam Python, Function merupakan sebuah kode yang hanya dijalankan ketika sebuah fungsi itu disebut. Biasanya digunakan untuk menghemat space code pada main code yang akan dijalankan.\n"
      ],
      "metadata": {
        "id": "eGMeoApZ5kOA"
      }
    },
    {
      "cell_type": "code",
      "source": [
        "def fungsiku():\n",
        "  print(\"Hello World!\")"
      ],
      "metadata": {
        "id": "jSi0rZkd6GGV"
      },
      "execution_count": 39,
      "outputs": []
    },
    {
      "cell_type": "code",
      "source": [
        "def fungsiku():\n",
        "  print(\"Hello World!\")\n",
        "\n",
        "fungsiku()"
      ],
      "metadata": {
        "colab": {
          "base_uri": "https://localhost:8080/"
        },
        "id": "oA3remye6MIE",
        "outputId": "75fd1d22-3b2b-4f0f-b2f9-70b552c0aa1d"
      },
      "execution_count": 41,
      "outputs": [
        {
          "output_type": "stream",
          "name": "stdout",
          "text": [
            "Hello World!\n"
          ]
        }
      ]
    },
    {
      "cell_type": "markdown",
      "source": [
        "Sebuah argumen dapat dijalankan didalam tanda kurung pada function.\n",
        "Contoh kode dapat dilihat di bawah:"
      ],
      "metadata": {
        "id": "_DdUSmWL6gkU"
      }
    },
    {
      "cell_type": "code",
      "source": [
        "def fungsiku(nama):\n",
        "  print(f\"Selamat datang, {nama}\")\n",
        "\n",
        "fungsiku(\"Zeta\")\n",
        "fungsiku(\"Gamma\")\n",
        "fungsiku(\"Alpha\")"
      ],
      "metadata": {
        "colab": {
          "base_uri": "https://localhost:8080/"
        },
        "id": "vrLTTpJM6fJS",
        "outputId": "d43b5d4f-1c22-4740-eddc-478c5300870b"
      },
      "execution_count": 43,
      "outputs": [
        {
          "output_type": "stream",
          "name": "stdout",
          "text": [
            "Selamat datang, Zeta\n",
            "Selamat datang, Gamma\n",
            "Selamat datang, Alpha\n"
          ]
        }
      ]
    },
    {
      "cell_type": "markdown",
      "source": [
        "Argumen atau parameter dapat bernilai dua atau lebih. Mencantumkan satu atau kurang pada fungsi yang mengharuskan kesesuaian parameter dapat mengakibatkan error pada program.\n",
        "\n"
      ],
      "metadata": {
        "id": "bf7wLUrK7AMV"
      }
    },
    {
      "cell_type": "code",
      "source": [
        "def fungsiku(awal, akhir):\n",
        "  print(f\"Selamat datang, {awal} {akhir}\")\n",
        "\n",
        "fungsiku(\"Zeta\", \"Delapan\")\n",
        "fungsiku(\"Gamma\", \"Vasco da\")\n",
        "fungsiku(\"Alpha\", \"Yngween\")"
      ],
      "metadata": {
        "colab": {
          "base_uri": "https://localhost:8080/"
        },
        "id": "3lZHcbHS6_oY",
        "outputId": "6283904e-28d3-4663-8fc5-6caa7243ac60"
      },
      "execution_count": 44,
      "outputs": [
        {
          "output_type": "stream",
          "name": "stdout",
          "text": [
            "Selamat datang, Zeta Delapan\n",
            "Selamat datang, Gamma Vasco da\n",
            "Selamat datang, Alpha Yngween\n"
          ]
        }
      ]
    },
    {
      "cell_type": "markdown",
      "source": [
        "### ARBITRARY ARGUMENT\n",
        "\n",
        "Jika kita tidak tahu berapa parameter yang ingin dimasukkan ke dalam fungsi, kita bisa menetapkan sebuah paramenter dengan satu atau dua asterisk di belakang argumen/parameter. Perbedaannya, satu argumen menghasilkan tuple dan dua menghasilkan dictionary."
      ],
      "metadata": {
        "id": "GdWPZCbc7uSW"
      }
    },
    {
      "cell_type": "code",
      "source": [
        "def fungsiku(*nama):\n",
        "    print(\"Namaku adalah \" + nama[1])\n",
        "\n",
        "fungsiku(\"Andreas\", \"Hoffman\", \"Parulian\")"
      ],
      "metadata": {
        "colab": {
          "base_uri": "https://localhost:8080/"
        },
        "id": "1IPTBKps711W",
        "outputId": "f12114ad-b6b4-4d0e-d527-f1da5a235298"
      },
      "execution_count": 47,
      "outputs": [
        {
          "output_type": "stream",
          "name": "stdout",
          "text": [
            "Namaku adalah Hoffman\n"
          ]
        }
      ]
    },
    {
      "cell_type": "markdown",
      "source": [
        "# SQL\n",
        "\n",
        "SQL, dengan sebutannya Structured Query Language merupakan sebuah bahasa pemrograman yang digunakan untuk memanipulasi dan menyimpan isi data ke dalam database. Basis dalam SQL disebut RDBMS, yang disebut Relational Database Management System di mana Database mempunyai sejumlah hubungan kolom.\n",
        "\n",
        "Tidak seperti Python, kode pada SQL tidak bersifat case-sensitive, berarti huruf besar/kecil tidak berpengaruh selagi notasi untuk menampilkan database atau tabel ditampilkan sesuai dengan database yang ada.\n",
        "\n",
        "SQL biasanya digunakan oleh program untuk pencarian data yang disebut dengan MySQL workbench.\n",
        "\n",
        "Berikut merupakan contoh syntax pada SQL beserta notasinya:\n",
        "\n"
      ],
      "metadata": {
        "id": "N22vJ_aT8lzB"
      }
    },
    {
      "cell_type": "code",
      "source": [
        "use world;\n",
        "# Digunakan untuk menggunakan sebuah database.\n",
        "\n",
        "Select * from City;\n",
        "# Select * = pilih semua\n",
        "# * from City = dari tabel City\n",
        "\n",
        "select name, region, surfacearea\n",
        " from Country;\n",
        "# Select name, region, surfacearea = pilih kolom name, region dan surface\n",
        "# * from City = dari tabel City\n",
        "\n",
        "select Name as NamaNegara,\n",
        "Region as Benua,\n",
        "SurfaceArea as LuasArea from Country order by Name desc\n",
        "limit 10;\n",
        "# Select name sebagai NamaNegara pada table\n",
        "#, region sebagai Benua pada table dan surfacearea sebagai LuasArea pada table\n",
        "# * from City = dari tabel City\n",
        "\n",
        "select name as NamaNegara, Population as Populasi from city order by Population desc\n",
        "limit 10;\n",
        "# Select name sebagai NamaNegara dan Population sebagai Populasi dari city\n",
        "# diurutkan dari Population descending batas 10 teratas."
      ],
      "metadata": {
        "id": "JCKHF41U8tJH"
      },
      "execution_count": null,
      "outputs": []
    }
  ]
}