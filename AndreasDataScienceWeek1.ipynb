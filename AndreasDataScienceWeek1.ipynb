{
 "cells": [
  {
   "cell_type": "markdown",
   "id": "e000c887",
   "metadata": {},
   "source": [
    "# Data Science Part 1\n",
    "\n",
    "#### Halo semuanya! Perkenalkan nama saya Andreas Hoffman Parulian dan sekarang saya ingin membawa kalian kepada hal-hal pertama yang kalian perlu tahu tentang Data Science serta Python! Dibawah merupakan markdown materi untuk Data Science bagian pertama:\n",
    "\n",
    "\n",
    "\n",
    "### > Data Science Secara Umum\n",
    "### > Apa itu dan Mengapa Python?\n",
    "### > Variable / Variables \n",
    "### > Tipe Data / Data Types\n",
    "### > User Inputs\n",
    "### > Conditional Statements\n",
    "### > Looping"
   ]
  },
  {
   "cell_type": "markdown",
   "id": "e5773bb4",
   "metadata": {},
   "source": [
    "## Data Science Secara Umum\n",
    "\n",
    "Data Science, atau ilmu data merupakan ilmu yang mengkombinasikan tiga lapangan, yang sekaligus skillnya harus digunakan, yakni:\n",
    "- Matematics and Statistics / Matematika dan Statistika\n",
    "- Business Knowledge / Pengetahuan Bisnis\n",
    "- Computer Science / Ilmu Komputer\n",
    "\n",
    "yang bertujuan untuk memperoleh pengetahuan yang berarti pada data untuk menyelesaikan masalah. Dari tiga lapangan tersebut, yang terpenting adalah Business Knowledge. Computer Science di sini berperan sebagai jembatan antara Matematika dan Business Knowledge.\n",
    "\n",
    "\n",
    "Data Science membutuhkan, of course, sesuai namanya, data. Tanpa data, tidak akan ada yang namanya Data Science. Data tidak berdiri sendiri, justru, data datang dalam jumlah kelompok yang besar dalam kecepatan yang luar biasa cepat, dan senantiasa perspektif berubah serupa. \n",
    "\n",
    "\n",
    "\n",
    "#### Tujuan Lain dari Data Science\n",
    "Tujuan dari data science adalah untuk memberikan interpretasi secara objektif ketimbang subjektif pada flow pembacaan situasi data.\n",
    "\n",
    "\n",
    "#### Jalur \n",
    "Jalur untuk terlibat dalam Data Science apa ya? Pada dasarnya, di tempat pekerjaan terdapat 3 jalur potensial, yakni\n",
    "- Data Scientist\n",
    "- Data Analyst\n",
    "- Data Engineer\n",
    "\n",
    "\n",
    "#### Questions dan Analytics terkait Data Science\n",
    "Ada sejumlah pendekatan analitik dengan pertanyaannya yang dapat digunakan untuk memecahkan kasus pada data, yakni\n",
    "- Descriptive Analytics - apa yang terjadi?\n",
    "- Diagnostic Analytics - mengapa itu bisa terjadi?\n",
    "- Predictive Analytics - apa yang akan terjadi?\n",
    "- Prescriptive Analytics - bagaimana cara melakukannya supaya itu terjadi?\n",
    "\n",
    "\n",
    "\n",
    "#### Metodologi Data Science\n",
    "Flow Data Science yang patut diikuti adalah sebagai berikut:\n",
    "\n",
    "##### FASE 1\n",
    "- Business Understanding, bagian yang paling penting dimana setiap data scientist harus tahu bagaimana cara suatu bisnis berjalan.\n",
    "- Analytic Approach, untuk melakukan pendekatan terbaik secara analitik menggunakan metode yang proper untuk menyelesaikan suatu masalah data.\n",
    "\n",
    "##### FASE 2 (dilakukan secara berulang jika ada kesalahan)\n",
    "- Data requirements untuk menentukan data yang diminta\n",
    "- Data collection untuk pengumpulan data yang diminta\n",
    "- Data understanding untuk melakukan pemebelajaran serta pengertian data secara keseluruhan\n",
    "- Data preparation untuk melakukan persiapan data.\n",
    "\n",
    "##### FASE 3 (dilakukan secara berulang)\n",
    "- Modeling untuk pemodelan data yang sudah disiapkan.\n",
    "- Evaluation untuk evaluasi data\n",
    "- Deployment untuk meluncurkan data yang ingin dipresentasikan\n",
    "- Feedback untuk memberikan saran dan kritik jika seandainya kelengkapan yang tidak cukup atau ada glitch atau bug di dalam pemrograman.\n",
    "\n",
    "\n",
    "\n",
    "\n",
    "#### Penerapan\n",
    "Untuk penerapannya bagaimana? Data Science biasanya diterapkan kepada banyak hal, contohnya:\n",
    "- Media Sosial untuk menganalisa perilaku pengguna\n",
    "- E-commerce untuk menganalisa perilaku pelanggan atau jumlah barang yang dibeli dalam suatu periode\n",
    "- Banking untuk memodelkan resiko perkreditan\n",
    "- Manufacturing untuk melakukan scheduling pembentukan mobil.\n",
    "\n",
    "\n",
    "Data tidak bisa diinterpretasikan hanya dengan speech, maka dari itu, terdapat sejumlah, atau lebih tepatnya tiga (atau lebih) jenis alat atau bahasa pemrograman yang dibawah ini yang setidaknya bisa dikuasai untuk menyukseskan visualisasi data, yakni\n",
    "- Python\n",
    "- MySQL\n",
    "- Power BI / Tableau\n"
   ]
  },
  {
   "cell_type": "markdown",
   "id": "c0dc1798",
   "metadata": {},
   "source": [
    "## Apa itu dan Mengapa Python? \n",
    "\n",
    "Python adalah sebuah bahasa pemrograman yang didesain untuk dimengerti sesederhana oleh bahasa manusia. \n",
    "Kode-kode yang didesain sedemikian rupa membuat bahasa ini digunakan oleh banyak perusahaan di dunia. \n",
    "Secara puitis, Python dapat dijuluki sebagai bahasa pemrograman yang ditujukan untuk memanusiakan manusia.\n",
    "\n",
    "Untuk mengawali Python, ada hal pertama yang kalian harus kenali di bawah, yaitu variabel."
   ]
  },
  {
   "cell_type": "markdown",
   "id": "a292f454",
   "metadata": {},
   "source": [
    "## Variabel / Variables\n",
    "\n",
    "Variabel sendiri dapat dideskripsikan sebagai sesuatu yang menyimpan value. Masih belum mengerti? Oke, ibaratkan ada dua toko roti yaitu A menjual rasa coklat, sementara B menjual 'stroberi'. Kode tersebut dapat dinotasikan di bawah sebagai berikut:"
   ]
  },
  {
   "cell_type": "code",
   "execution_count": 8,
   "id": "93dadede",
   "metadata": {},
   "outputs": [],
   "source": [
    "rotia = 'coklat'\n",
    "rotib = 'stroberi'"
   ]
  },
  {
   "cell_type": "markdown",
   "id": "8c64829d",
   "metadata": {},
   "source": [
    "Lho, kok ada rotia dan rotib? Mereka inilah yang kita sebut dengan variabel.\n",
    "\n",
    "Elemen pada penulisan variabel, sebagai contoh rotia = 'coklat', mempunyai tiga hal yang harus diperhatikan, yakni\n",
    "\n",
    "- rotia, yang berperan sebagai nama variabel\n",
    "\n",
    "- = (tanda sama dengan), yang menandakan sebuah variabel menyimpan suatu nilai.\n",
    "\n",
    "- 'coklat', yang menandakan sebagai value untuk variabel, yaitu rotia.\n",
    "\n",
    "\n",
    "Oh, menyebut variabel dan value saja belum cukup, lho. Kalian perlu menampilkan dan menjalankan hasil kodenya. Untuk menampilkannya, tuliskan kode print(nama variabel)."
   ]
  },
  {
   "cell_type": "code",
   "execution_count": 9,
   "id": "c157b8b3",
   "metadata": {},
   "outputs": [
    {
     "name": "stdout",
     "output_type": "stream",
     "text": [
      "coklat\n",
      "stroberi\n"
     ]
    }
   ],
   "source": [
    "print(rotia)\n",
    "print(rotib)"
   ]
  },
  {
   "cell_type": "markdown",
   "id": "3bec0947",
   "metadata": {},
   "source": [
    "Metode di atas sudah memberikan pengertian yang cukup untuk menampilkan value pada program, tapi sebenarnya ada cara yang lebih nyaman untuk dipakai. Ibaratkan pada sebuah program kalian ingin menampilkan sebuah value variabel yang diikutkan pada teks. Ada caranya, kita inisiasikan kode dengan print(f'') (Formatted String Literals), yang ditujukan supaya expresi print dapat mencantumkan value variabel pada string. Untuk melakukannya, tuliskan sebuah printf('bagian teks {nama variabel}'). Oke, saya ingin memberi contoh singkat saja:"
   ]
  },
  {
   "cell_type": "code",
   "execution_count": 64,
   "id": "38a43c9b",
   "metadata": {},
   "outputs": [
    {
     "name": "stdout",
     "output_type": "stream",
     "text": [
      "Toko roti A menjual rasa coklat\n",
      "Toko roti B menjual rasa stroberi\n"
     ]
    }
   ],
   "source": [
    "rotia = 'coklat'\n",
    "rotib = 'stroberi'\n",
    "\n",
    "print(f'Toko roti A menjual rasa {rotia}')\n",
    "print(f'Toko roti B menjual rasa {rotib}')"
   ]
  },
  {
   "cell_type": "markdown",
   "id": "13539e1e",
   "metadata": {},
   "source": [
    "#### Sekalipun kalian ingin menamakan variabel sesuka hati kalian, terdapat beberapa peraturan yang HARUS diikuti saat menyebut variabel, yang disebutkan di bawah:\n",
    "\n",
    "- Harus dimulai dengan huruf / underscore\n",
    "\n",
    "\n",
    "- JANGAN MULAI dengan sebuah angka\n",
    "\n",
    "\n",
    "- Nama variabel hanya mengandung karakter alfanumerik dan underscore\n",
    "\n",
    "\n",
    "Dibawah diberikan gambaran bagaimana sebuah variabel harus dituliskan, beserta valuenya:"
   ]
  },
  {
   "cell_type": "markdown",
   "id": "fd0b5a47",
   "metadata": {},
   "source": [
    "### PROPER EXAMPLES / CONTOH YANG BENAR"
   ]
  },
  {
   "cell_type": "code",
   "execution_count": 38,
   "id": "44d5d765",
   "metadata": {},
   "outputs": [],
   "source": [
    "var1 = 'content'\n",
    "var_1 = 'content'\n",
    "VAR1 = 'content'\n",
    "VAR_1 = 'content'"
   ]
  },
  {
   "cell_type": "markdown",
   "id": "397ef365",
   "metadata": {},
   "source": [
    "### CONTOH YANG SALAH / WRONG EXAMPLES"
   ]
  },
  {
   "cell_type": "code",
   "execution_count": null,
   "id": "d4d66386",
   "metadata": {},
   "outputs": [],
   "source": [
    "1var = 'content'\n",
    "var 1 = 'content'\n",
    "var-1 = 'content'"
   ]
  },
  {
   "cell_type": "markdown",
   "id": "900f27e6",
   "metadata": {},
   "source": [
    "### ERROR YANG HARUS DIPERHATIKAN\n",
    "\n",
    "Beberapa dari error yang akan saya sebutkan disini mungkin tidak berpengaruh terhadap kesalahan pada sistem atau kode yang tertera di garis sebelumnya, tapi detail-detail ini harus diperhatikan, sebagai contohnya adalah:"
   ]
  },
  {
   "cell_type": "markdown",
   "id": "33202054",
   "metadata": {},
   "source": [
    "#### INVALID SYNTAX\n",
    "\n",
    "Error jenis ini disebabkan variabel yang tidak dituliskan sesuai aturan, sehingga tercantum sebagai \"invalid syntax\". Sebagai contohnya sebuah angka sebagai karakter pertama dalam sebuah variabel tidak diperbolehkan. Ada dua contoh yang saya ingin cantumkan dalam kode sebagai akibat dari tidak mengikuti aturan penulisan variabel berupa alfanumerik dan underscore, yakni:"
   ]
  },
  {
   "cell_type": "code",
   "execution_count": 3,
   "id": "47f37bb3",
   "metadata": {},
   "outputs": [
    {
     "ename": "SyntaxError",
     "evalue": "invalid syntax (4183575391.py, line 1)",
     "output_type": "error",
     "traceback": [
      "\u001b[1;36m  Cell \u001b[1;32mIn[3], line 1\u001b[1;36m\u001b[0m\n\u001b[1;33m    var 1 = 'content'\u001b[0m\n\u001b[1;37m        ^\u001b[0m\n\u001b[1;31mSyntaxError\u001b[0m\u001b[1;31m:\u001b[0m invalid syntax\n"
     ]
    }
   ],
   "source": [
    "# ERROR PEMISAHAN KATA PADA VARIABEL\n",
    "var 1 = 'content'"
   ]
  },
  {
   "cell_type": "code",
   "execution_count": 4,
   "id": "c395d69d",
   "metadata": {},
   "outputs": [
    {
     "ename": "SyntaxError",
     "evalue": "invalid decimal literal (2936258670.py, line 1)",
     "output_type": "error",
     "traceback": [
      "\u001b[1;36m  Cell \u001b[1;32mIn[4], line 1\u001b[1;36m\u001b[0m\n\u001b[1;33m    1var = 'content'\u001b[0m\n\u001b[1;37m    ^\u001b[0m\n\u001b[1;31mSyntaxError\u001b[0m\u001b[1;31m:\u001b[0m invalid decimal literal\n"
     ]
    }
   ],
   "source": [
    "# INVALID DECIMAL LITERAL\n",
    "1var = 'content'"
   ]
  },
  {
   "cell_type": "markdown",
   "id": "a631ab18",
   "metadata": {},
   "source": [
    "#### CANNOT ASSIGN TO EXPRESSION / OPERATOR\n",
    "\n",
    "Ekspresi operasi seperti + dan - biasanya digunakan untuk penyelesaian secara matematika. Error seperti ini terjadi karena pada sebuah variabel yang disebutkan mempunyai tanda operator yang diduga melakukan operasi bilangan, yang berarti tidak memenuhi syarat alfanumerik dan underscore. Contoh error:"
   ]
  },
  {
   "cell_type": "code",
   "execution_count": 5,
   "id": "ae873b2d",
   "metadata": {},
   "outputs": [
    {
     "ename": "SyntaxError",
     "evalue": "cannot assign to expression here. Maybe you meant '==' instead of '='? (1045847190.py, line 1)",
     "output_type": "error",
     "traceback": [
      "\u001b[1;36m  Cell \u001b[1;32mIn[5], line 1\u001b[1;36m\u001b[0m\n\u001b[1;33m    var-1 = 'content'\u001b[0m\n\u001b[1;37m    ^\u001b[0m\n\u001b[1;31mSyntaxError\u001b[0m\u001b[1;31m:\u001b[0m cannot assign to expression here. Maybe you meant '==' instead of '='?\n"
     ]
    }
   ],
   "source": [
    "# ERROR KARENA TANDA BACA PENGURANGAN DALAM VARIABEL\n",
    "\n",
    "var-1 = 'content'"
   ]
  },
  {
   "cell_type": "code",
   "execution_count": 6,
   "id": "0ee965dd",
   "metadata": {},
   "outputs": [
    {
     "ename": "SyntaxError",
     "evalue": "cannot assign to expression here. Maybe you meant '==' instead of '='? (1083655253.py, line 1)",
     "output_type": "error",
     "traceback": [
      "\u001b[1;36m  Cell \u001b[1;32mIn[6], line 1\u001b[1;36m\u001b[0m\n\u001b[1;33m    var*1 = 'content'\u001b[0m\n\u001b[1;37m    ^\u001b[0m\n\u001b[1;31mSyntaxError\u001b[0m\u001b[1;31m:\u001b[0m cannot assign to expression here. Maybe you meant '==' instead of '='?\n"
     ]
    }
   ],
   "source": [
    "# ERROR KARENA TANDA BACA PERKALIAN DALAM VARIABEL\n",
    "\n",
    "var*1 = 'content'"
   ]
  },
  {
   "cell_type": "markdown",
   "id": "4408acc2",
   "metadata": {},
   "source": [
    "#### CASE-SENSITIVE ISSUES\n",
    "\n",
    "Satu huruf, maupun besar atau kecil dapat memberikan perbedaan besar untuk variabel yang berbeda. Sebuah variabel harus dipanggil 100% sesuai dengan yang disebutkan di awal dalam kode atau sistem Python akan mendeteksi terjadinya error sebelum programnya dijalankan. Kode dibawah ini merupakan suatu contoh jika terjadi kesalahan penulisan kode dengan perbedaan hanya satu huruf kapital:"
   ]
  },
  {
   "cell_type": "code",
   "execution_count": 92,
   "id": "b00519b7",
   "metadata": {},
   "outputs": [
    {
     "name": "stdout",
     "output_type": "stream",
     "text": [
      "Ini nilai yang tidak diinginkan.\n"
     ]
    }
   ],
   "source": [
    "Vari = 'Ini nilai yang tidak diinginkan.'\n",
    "vari = 'Ini nilai yang diinginkan.'\n",
    "\n",
    "print(f'{Vari}')\n"
   ]
  },
  {
   "cell_type": "markdown",
   "id": "020b9459",
   "metadata": {},
   "source": [
    "### Case Styles\n",
    "\n",
    "Untuk mempermudah pembacaan kode, ada baiknya tulisan variabel itu nyaman untuk dibaca. Then again, ini opsional, tapi cara kalian menginterpretasi flow program dalam kode semuanya tergantung pada kalian. Pada umumnya ada dua cara dalam penulisan variabel, yaitu:"
   ]
  },
  {
   "cell_type": "markdown",
   "id": "7831f623",
   "metadata": {},
   "source": [
    "#### CAMEL STYLE\n",
    "\n",
    "Camel Style merupakan tipe case di mana variabel yang disebut pada dua atau lebih kata dipisahkan dengan huruf kapital pada awalan kata kecuali huruf pertama pada variabel.\n",
    "\n",
    "Sebagai contoh:"
   ]
  },
  {
   "cell_type": "code",
   "execution_count": null,
   "id": "32bbb18a",
   "metadata": {},
   "outputs": [],
   "source": [
    "#SEBELUM CAMEL STYLE\n",
    "maindish = 'bread'\n",
    "myflavor = 'chocolate'\n",
    "\n",
    "\n",
    "#SETELAH CAMEL STYLE DITERAPKAN\n",
    "mainDish = 'bread'\n",
    "myFlavor = 'chocolate'"
   ]
  },
  {
   "cell_type": "markdown",
   "id": "1c20d5c9",
   "metadata": {},
   "source": [
    "Terdapat perbedaan pada penulisan pada variabel seperti:\n",
    "\n",
    "\n",
    "maindish -> mainDish (huruf D dikapitalkan)\n",
    "\n",
    "myflavor -> myFlavor (huruf F dikapitalkan)"
   ]
  },
  {
   "cell_type": "markdown",
   "id": "f3da827c",
   "metadata": {},
   "source": [
    "#### SNAKE STYLE\n",
    "\n",
    "Snake Style merupakan tipe case di mana variabel yang disebut pada dua atau lebih kata dipisahkan dengan underscore sebagai pengganti kata spasi.\n",
    "\n",
    "Sebagai contoh:"
   ]
  },
  {
   "cell_type": "code",
   "execution_count": null,
   "id": "48e0bdeb",
   "metadata": {},
   "outputs": [],
   "source": [
    "#SEBELUM SNAKE STYLE\n",
    "maindish = 'bread'\n",
    "myflavor = 'chocolate'\n",
    "\n",
    "#SETELAH SNAKE STYLE DITERAPKAN\n",
    "main_dish = 'bread'\n",
    "my_flavor = 'chocolate'"
   ]
  },
  {
   "cell_type": "markdown",
   "id": "8bc7f99e",
   "metadata": {},
   "source": [
    "Terdapat perbedaan pada penulisan pada variabel seperti:\n",
    "\n",
    "\n",
    "maindish -> main_dish (underscore memisah main dan dish)\n",
    "\n",
    "myflavor -> my_flavor (underscore memisah my dan flavor)"
   ]
  },
  {
   "cell_type": "markdown",
   "id": "14e6f269",
   "metadata": {},
   "source": [
    "<!-- Terdapat perbedaan pada penulisan pada variabel seperti maindish menjadi main_dish serta myflavor menjadi my_flavor. Sekali lagi, dua kata dipisahkan dengan underscore. -->"
   ]
  },
  {
   "cell_type": "markdown",
   "id": "e15b08e5",
   "metadata": {},
   "source": [
    "## > Tipe Data / Data Types\n",
    "\n",
    "Variabel mempunyai value yang berbeda, seperti huruf atau angka. Variabel tidak hanya memiliki value tunggal, tetapi dapat memiliki value majemuk. Dengan ini dapat disimpulkan bahwa terdapat banyak jenis data yang disediakan untuk sebuah variabel, \n",
    "\n",
    "- Text\n",
    "\n",
    "- Numeric\n",
    "\n",
    "- Range\n",
    "\n",
    "- Collection\n",
    "\n",
    "- Set\n",
    "\n",
    "- Boolean\n",
    "\n"
   ]
  },
  {
   "cell_type": "markdown",
   "id": "8107eccb",
   "metadata": {},
   "source": [
    "### Text\n",
    "\n",
    "Data tipe teks, atau yang disebut dengan string, mempunyai value pada variabel berisi sebuah karakter (satu tanda baca atau huruf), kata (kumpulan huruf), atau kalimat. Contoh-contoh yang disebutkan pada kode di atas sudah lebih dari cukup, although tidak ada salahnya menambahkan untuk menegaskan."
   ]
  },
  {
   "cell_type": "code",
   "execution_count": 1,
   "id": "2b1eb0f4",
   "metadata": {},
   "outputs": [
    {
     "name": "stdout",
     "output_type": "stream",
     "text": [
      "chocolate\n"
     ]
    }
   ],
   "source": [
    "myflavor = 'chocolate'\n",
    "\n",
    "\n",
    "print(myflavor)"
   ]
  },
  {
   "cell_type": "markdown",
   "id": "2d489507",
   "metadata": {},
   "source": [
    "### Numeric\n",
    "\n",
    "Data tipe numeric mempunyai value pada variabel berisi angka. Pada umumnya, terdapat dua tipe yang digunakan, yakni int dan float.\n",
    "int, atau yang disebut dengan integer mempunyai value bilangan bulat, sementara float memegang value angka desimal."
   ]
  },
  {
   "cell_type": "markdown",
   "id": "c5b60567",
   "metadata": {},
   "source": [
    "Dibawah merupakan contoh notasi variabel integer:"
   ]
  },
  {
   "cell_type": "code",
   "execution_count": 84,
   "id": "3d75d6d0",
   "metadata": {},
   "outputs": [
    {
     "name": "stdout",
     "output_type": "stream",
     "text": [
      "6\n"
     ]
    }
   ],
   "source": [
    "v = 6\n",
    "print(v)"
   ]
  },
  {
   "cell_type": "markdown",
   "id": "33359078",
   "metadata": {},
   "source": [
    "Selanjutnya merupakan contoh notasi variabel untuk float. Perbedaan pada hasil output hanya melibatkan sebuah koma saat variabel diinisiasikan."
   ]
  },
  {
   "cell_type": "code",
   "execution_count": 85,
   "id": "bbb6207d",
   "metadata": {},
   "outputs": [
    {
     "name": "stdout",
     "output_type": "stream",
     "text": [
      "6.0\n"
     ]
    }
   ],
   "source": [
    "w = 6.0\n",
    "print(w)"
   ]
  },
  {
   "cell_type": "code",
   "execution_count": 86,
   "id": "c14da495",
   "metadata": {},
   "outputs": [
    {
     "name": "stdout",
     "output_type": "stream",
     "text": [
      "36.0\n"
     ]
    }
   ],
   "source": [
    "z = v*w\n",
    "print(z)"
   ]
  },
  {
   "cell_type": "code",
   "execution_count": 87,
   "id": "8d3416dc",
   "metadata": {},
   "outputs": [
    {
     "name": "stdout",
     "output_type": "stream",
     "text": [
      "36\n"
     ]
    }
   ],
   "source": [
    "print(int(z))"
   ]
  },
  {
   "cell_type": "markdown",
   "id": "434d1081",
   "metadata": {},
   "source": [
    "#### ARITHMETIC OPERATORS\n",
    "\n",
    "Dalam Python, terdapat 6-8 operator aritmetik yang sering digunakan dalam matematika. Tanda operasi ini digunakan antara integer atau float. Mereka adalah:\n",
    "- +' addition / penjumlahan\n",
    "- -' subtraction / pengurangan\n",
    "- *' multiplication / perkalian\n",
    "- / division / pembagian \n",
    "- % modulus / sisa bagi\n",
    "- ** exponentiation / perpangkatan\n",
    "- // floor division / pembagian lantai (hasil dibulatkan ke bawah)\n",
    "\n",
    "Tanda operasi tersebut mempunyai versi ketika satu variabel diinteraksikan dengan variabel lainnya, seperti:\n",
    "- += operator addition\n",
    "- -= operator subtraction\n",
    "- *= operator multiplication\n",
    "- /= operator division / pembagian \n",
    "- %= operator modulus\n",
    "- **= operator exponentiation\n",
    "- //= operator floor division\n",
    "\n",
    "\n",
    "Di bawah merupakan contoh sebagian dari contoh operasi beserta hasil, yakni:"
   ]
  },
  {
   "cell_type": "code",
   "execution_count": 95,
   "id": "8a8fe01e",
   "metadata": {},
   "outputs": [
    {
     "name": "stdout",
     "output_type": "stream",
     "text": [
      "12\n",
      "8\n",
      "20\n",
      "5.0\n",
      "0\n",
      "100\n",
      "5\n"
     ]
    }
   ],
   "source": [
    "# CONTOH OPERASI ANTARA A DAN B\n",
    "\n",
    "a = 10\n",
    "b = 2\n",
    "\n",
    "print(f'{a+b}')\n",
    "print(f'{a-b}')\n",
    "print(f'{a*b}')\n",
    "print(f'{a/b}')\n",
    "print(f'{a%b}')\n",
    "print(f'{a**b}')\n",
    "print(f'{a//b}')"
   ]
  },
  {
   "cell_type": "markdown",
   "id": "33ed33d5",
   "metadata": {},
   "source": [
    "### Range\n",
    "\n",
    "Range merupakan tipe data yang mencakup jangkauan angka pada sebuah variabel. Tipe data ini biasanya digunakan saat menggunakan metode looping for, yang nanti akan dijelaskan mendekati akhir rangkuman bagian ini."
   ]
  },
  {
   "cell_type": "code",
   "execution_count": 61,
   "id": "964fb46e",
   "metadata": {},
   "outputs": [
    {
     "name": "stdout",
     "output_type": "stream",
     "text": [
      "1\n",
      "2\n",
      "3\n",
      "4\n",
      "5\n",
      "6\n"
     ]
    }
   ],
   "source": [
    "a = 0\n",
    "number = range(6)\n",
    "\n",
    "for i in number:\n",
    "    a+=1\n",
    "    print(a)\n"
   ]
  },
  {
   "cell_type": "markdown",
   "id": "a5edea03",
   "metadata": {},
   "source": [
    "Kode di atas dapat diinterpretasikan dengan variabel a diawali dengan value 0, dan number mewakili variabel range, yang nanti digunakan pada for untuk range maksimal."
   ]
  },
  {
   "cell_type": "code",
   "execution_count": 78,
   "id": "119014ae",
   "metadata": {},
   "outputs": [
    {
     "name": "stdout",
     "output_type": "stream",
     "text": [
      "3\n",
      "4\n",
      "5\n",
      "6\n"
     ]
    }
   ],
   "source": [
    "a = 2\n",
    "number = range(a, 6) # NILAI AWAL a, AKHIR 6\n",
    "\n",
    "for i in number:\n",
    "    i+=1\n",
    "    print(i)"
   ]
  },
  {
   "cell_type": "markdown",
   "id": "92a2745f",
   "metadata": {},
   "source": [
    "Contoh kode di atas ini merupakan variasi pada range: kode di atas dapat diinterpretasikan dengan variabel a mempunyai nilai 2 dan number mewakili variabel range dari a sampai dengan 6, yang nanti digunakan pada for untuk range maksimal.\n",
    "\n",
    "Range dengan dua parameter ditulis sebagai\n",
    "\n",
    "range(start, stop)\n",
    "\n",
    "Dengan start = angka awal, stop = angka akhir."
   ]
  },
  {
   "cell_type": "code",
   "execution_count": 79,
   "id": "64f9ee93",
   "metadata": {},
   "outputs": [
    {
     "name": "stdout",
     "output_type": "stream",
     "text": [
      "0\n",
      "2\n",
      "4\n",
      "6\n",
      "8\n"
     ]
    }
   ],
   "source": [
    "a = 0\n",
    "number = range(a,10,2) # LONCAT 2 SAMPAI DENGAN 10\n",
    "\n",
    "for i in number:\n",
    "    print(i)"
   ]
  },
  {
   "cell_type": "markdown",
   "id": "8aa45700",
   "metadata": {},
   "source": [
    "Contoh yang satu ini merupakan variasi pada range: kode di atas dapat diinterpretasikan dengan variabel a mempunyai nilai 2 dan number mewakili variabel range dari a sampai dengan 6, yang nanti digunakan pada for untuk range maksimal.\n",
    "\n",
    "Range dengan tiga parameter ditulis sebagai\n",
    "\n",
    "range(start, stop, skip)\n",
    "\n",
    "Dengan start = angka awal, stop = angka akhir, skip = jumlah loncatan pada urutan angka."
   ]
  },
  {
   "cell_type": "markdown",
   "id": "dce0ca75",
   "metadata": {},
   "source": [
    "### Collection\n",
    "\n",
    "Collection merupakan tipe data di mana sebuah variabel dapat menampung lebih dari satu value. Contoh-contoh variabel yang tergolong tipe collection adalah\n",
    "\n",
    "- list, yang dinotasikan dengan kurung siku, yang menandakan daftar value tersebut berurutan dan dapat diubah.\n",
    "- tuple, yang dinotasikan dengan kurung biasa, yang menandakan daftar value tersebut berurutan dan tidak dapat diubah.\n",
    "- dictionary, yang dinotasikan dengan kurung kurawal, yang digunakan menandakan pasangan antara key dan value, yang nanti didiskusikan di, kemungkinan bagian selanjutnya..."
   ]
  },
  {
   "cell_type": "code",
   "execution_count": 90,
   "id": "3314f8a9",
   "metadata": {},
   "outputs": [
    {
     "name": "stdout",
     "output_type": "stream",
     "text": [
      "['jeruk', 'apel', 'mangga']\n"
     ]
    }
   ],
   "source": [
    "# CONTOH LIST\n",
    "\n",
    "listBuah = [\"jeruk\", \"apel\", \"mangga\"] #list\n",
    "\n",
    "print(listBuah)"
   ]
  },
  {
   "cell_type": "code",
   "execution_count": 91,
   "id": "ef38b95d",
   "metadata": {},
   "outputs": [
    {
     "name": "stdout",
     "output_type": "stream",
     "text": [
      "('jeruk', 'apel', 'mangga')\n"
     ]
    }
   ],
   "source": [
    "# CONTOH TUPLE\n",
    "tupleBuah = (\"jeruk\", \"apel\", \"mangga\") #tuple\n",
    "\n",
    "print(tupleBuah)"
   ]
  },
  {
   "cell_type": "markdown",
   "id": "ff7f8578",
   "metadata": {},
   "source": [
    "### Set\n",
    "\n",
    "Set merupakan tipe data di mana sebuah variabel dapat menampung lebih dari satu value, dinotasikan dengan kurung kurawal. Tidak seperti dictionary, set menyimpan kumpulan data tunggal ketimbang sepasang data key-value. Set bersifat tidak berurutan, dan tidak dapat diubah, tapi isi set dapat ditambahkan serta diremove. Contohnya dapat dilihat di bawah.\n"
   ]
  },
  {
   "cell_type": "code",
   "execution_count": 96,
   "id": "34fbcbe3",
   "metadata": {},
   "outputs": [
    {
     "name": "stdout",
     "output_type": "stream",
     "text": [
      "{'mangga', 'jeruk', 'apel'}\n"
     ]
    }
   ],
   "source": [
    "setBuah = {\"jeruk\", \"apel\", \"mangga\"} #set\n",
    "\n",
    "print(setBuah)"
   ]
  },
  {
   "cell_type": "markdown",
   "id": "ff9e4e7a",
   "metadata": {},
   "source": [
    "### Boolean\n",
    "\n",
    "Boolean merupakan tipe data di mana sebuah variabel hanya berisi salah satu dari dua pernyataan kondisional: True atau False.\n",
    "\n",
    "Contoh kodenya dapat dijabarkan di bawah:"
   ]
  },
  {
   "cell_type": "code",
   "execution_count": 40,
   "id": "38190725",
   "metadata": {},
   "outputs": [
    {
     "name": "stdout",
     "output_type": "stream",
     "text": [
      "True\n"
     ]
    }
   ],
   "source": [
    "# INITIATE VARIABEL INTEGER\n",
    "a = 2\n",
    "\n",
    "# INITIATE VARIABEL BOOLEAN\n",
    "statement = bool(a>0)\n",
    "\n",
    "print(f'{statement}')"
   ]
  },
  {
   "cell_type": "markdown",
   "id": "19a8f45d",
   "metadata": {},
   "source": [
    "Dari kode tersebut dapat diartikan terdapat variabel integer a bernilai 2, dan variabel boolean bernama 'statement' untuk menentukan apakan nilai bernilai true atau false untuk pernyataan tersebut. Kemudian kode print dilakukan untuk menampilkan hasil boolean. Hasilnya adalah true karena a = 2>0, sehingga boolean menyimpulkan perbandingan tersebut dianggap sebagai True."
   ]
  },
  {
   "cell_type": "markdown",
   "id": "63435015",
   "metadata": {},
   "source": [
    "## > User Inputs\n",
    "\n",
    "Dalam sebuah pemrograman, ada suatu situasi di mana seorang pengguna program diminta untuk memasukkan sebuah nilai secara manual. Jenis variabel ini biasanya disebut user input, dan proses ini tidak akan berjalan sampai pengguna menyelesaikan proses pemasukan. Isi input biasanya berupa integer, float atau string.\n",
    "\n",
    "Saya ingin memberikan contoh kode sebagai pengenalan user input di bawah:"
   ]
  },
  {
   "cell_type": "code",
   "execution_count": 62,
   "id": "5da54ac0",
   "metadata": {},
   "outputs": [
    {
     "name": "stdout",
     "output_type": "stream",
     "text": [
      "Masukkan sebuah kata:Selamat pagi dunia\n",
      "Hasil input Anda: Selamat pagi dunia\n"
     ]
    }
   ],
   "source": [
    "sentence = input(\"Masukkan sebuah kata:\")\n",
    "\n",
    "print(f'Hasil input Anda: {sentence}')"
   ]
  },
  {
   "cell_type": "markdown",
   "id": "25f6ca3f",
   "metadata": {},
   "source": [
    "Selanjutnya variabel input akan dicoba dengan value integer atau float, dengan operator bilangan pada kurung kurawal print f:"
   ]
  },
  {
   "cell_type": "code",
   "execution_count": 93,
   "id": "f70a5c6d",
   "metadata": {},
   "outputs": [
    {
     "name": "stdout",
     "output_type": "stream",
     "text": [
      "Masukkan sebuah kata:Hallo\n"
     ]
    },
    {
     "ename": "TypeError",
     "evalue": "unsupported operand type(s) for -: 'str' and 'int'",
     "output_type": "error",
     "traceback": [
      "\u001b[1;31m---------------------------------------------------------------------------\u001b[0m",
      "\u001b[1;31mTypeError\u001b[0m                                 Traceback (most recent call last)",
      "Cell \u001b[1;32mIn[93], line 3\u001b[0m\n\u001b[0;32m      1\u001b[0m sentence \u001b[38;5;241m=\u001b[39m \u001b[38;5;28minput\u001b[39m(\u001b[38;5;124m\"\u001b[39m\u001b[38;5;124mMasukkan sebuah kata:\u001b[39m\u001b[38;5;124m\"\u001b[39m)\n\u001b[1;32m----> 3\u001b[0m \u001b[38;5;28mprint\u001b[39m(\u001b[38;5;124mf\u001b[39m\u001b[38;5;124m'\u001b[39m\u001b[38;5;124mHasil input Anda: \u001b[39m\u001b[38;5;132;01m{\u001b[39;00msentence\u001b[38;5;241m-\u001b[39m\u001b[38;5;241m2\u001b[39m\u001b[38;5;132;01m}\u001b[39;00m\u001b[38;5;124m'\u001b[39m)\n",
      "\u001b[1;31mTypeError\u001b[0m: unsupported operand type(s) for -: 'str' and 'int'"
     ]
    }
   ],
   "source": [
    "sentence = input(\"Masukkan sebuah kata:\")\n",
    "\n",
    "print(f'Hasil input Anda: {sentence-2}')"
   ]
  },
  {
   "cell_type": "markdown",
   "id": "bc2f2870",
   "metadata": {},
   "source": [
    "Seperti yang kalian lihat, terdapat error operator karena string tidak berbaur baik dengan operator aritmetik. Supaya yang kita input bukan merupakan string, ada suatu metode yang disebut dengan...\n",
    "\n",
    "### Casting\n",
    "\n",
    "Casting sendiri menjadi cara yang penting dalam menginisiasikan variabel karena kita ingin variabel mempunyai value yang sesuai permintaan program. Dalam kasus kode di atas, string tidak bisa dipakai dengan operasi aritmetik. "
   ]
  },
  {
   "cell_type": "markdown",
   "id": "af864bc5",
   "metadata": {},
   "source": [
    "## > Conditional Statements\n",
    "\n",
    "Dalam Python, conditional statement atau pernyataan kondisional digunakan untuk mengatur jalannya program sesuai kondisi yang didasarkan oleh sebuah value pada variabel."
   ]
  },
  {
   "cell_type": "markdown",
   "id": "fd9345a7",
   "metadata": {},
   "source": [
    "### IF\n",
    "\n",
    "Fungsi if digunakan untuk memulai sebuah conditional statement. Kode dibawah merupakan contoh untuk if."
   ]
  },
  {
   "cell_type": "markdown",
   "id": "564d77a7",
   "metadata": {},
   "source": [
    "### ELIF\n",
    "Fungsi elif digunakan untuk melanjutkan pemeriksaan conditional statement jika kondisi if tidak terpenuhi"
   ]
  },
  {
   "cell_type": "markdown",
   "id": "f14cea0c",
   "metadata": {},
   "source": [
    "### ELSE\n",
    "Fungsi else digunakan untuk memberikan output terakhir jika conditional statement yang disebutkan pada if dan elif tidak dipenuhi."
   ]
  },
  {
   "cell_type": "markdown",
   "metadata": {},
   "source": [
    "Berikut merupakan contoh kode yang menggabungkan elemen IF, ELIF dan ELSE, yang berarti terdapat tiga atau secara potensial lebih pernyataan kondisional:"
   ]
  },
  {
   "cell_type": "code",
   "execution_count": null,
   "metadata": {},
   "outputs": [],
   "source": [
    "v = 4\n",
    "\n",
    "if(v>0):\n",
    "    print('Bilangan positif')\n",
    "elif(v==0):\n",
    "    print('Bukan bilangan positif atau negatif')\n",
    "else:\n",
    "    print('Bilangan negatif')"
   ]
  },
  {
   "cell_type": "markdown",
   "id": "34d23f27",
   "metadata": {},
   "source": [
    "### COMPARISON OPERATORS\n",
    "\n",
    "Comparison Operators adalah tanda-tanda pembanding secara matematika, seperti \"kurang dari\" atau \"lebih dari\". Terdapat enam jenis operator yang digunakan dalam kode (dengan a dan b sebagai contoh variabel angka):\n",
    "\n",
    "'     < : less than / kurang dari\n",
    "\n",
    "'     > : more than / lebih dari\n",
    "\n",
    "'    <= : less than or equal to / kurang dari sama dengan\n",
    "\n",
    "'    >= : more than or equal to / lebih dari sama dengan\n",
    "\n",
    "'    != : b not equal to / tidak sama dengan\n",
    "\n",
    "'    == : b equal to / sama dengan"
   ]
  },
  {
   "cell_type": "code",
   "execution_count": 45,
   "id": "32e92736",
   "metadata": {},
   "outputs": [
    {
     "name": "stdout",
     "output_type": "stream",
     "text": [
      "2 < 5 hasilnya adalah True\n",
      "2 > 5 hasilnya adalah False\n",
      "2 <= 5 hasilnya adalah True\n",
      "2 >= 5 hasilnya adalah False\n",
      "2 != 5 hasilnya adalah True\n",
      "2 == 5 hasilnya adalah False\n"
     ]
    }
   ],
   "source": [
    "## CONTOH UNTUK COMPARISON OPERATORS\n",
    "a = 2\n",
    "b = 5\n",
    "\n",
    "print(f'2 < 5 hasilnya adalah {bool(a<b)}')\n",
    "\n",
    "print(f'2 > 5 hasilnya adalah {bool(a>b)}')\n",
    "\n",
    "print(f'2 <= 5 hasilnya adalah {bool(a<=b)}')\n",
    "\n",
    "print(f'2 >= 5 hasilnya adalah {bool(a>=b)}')\n",
    "\n",
    "print(f'2 != 5 hasilnya adalah {bool(a!=b)}')\n",
    "\n",
    "print(f'2 == 5 hasilnya adalah {bool(a==b)}')"
   ]
  },
  {
   "cell_type": "markdown",
   "id": "c9d696f1",
   "metadata": {},
   "source": [
    "## > LOGICAL OPERATORS\n",
    "\n",
    "Logical Operators merupakan jenis-jenis operator yang biasa atau lebih banyaknya, sering digunakan pada conditional statement. Terdapat tiga jenis logical operator, yakni\n",
    "- and\n",
    "- or\n",
    "- not"
   ]
  },
  {
   "cell_type": "markdown",
   "id": "2bb7ab10",
   "metadata": {},
   "source": [
    "### OPERATOR AND\n",
    "\n",
    "Operator and dapat digunakan pada kriteria dimana pernyataan True hanya terjadi jika semua pernyataan yang terlibat (jika terdapat dua atau lebih) adalah True. Satu statement yang bernilai False mengakibatkan logika keseluruhan bernilai False.\n",
    "\n",
    "Lebih simpelnya, hasil logika untuk \"and\" pada dua statement:\n",
    "\n",
    "P1 T and T = T\n",
    "\n",
    "P2 T and F = F\n",
    "\n",
    "P3 F and T = F\n",
    "\n",
    "P4 F and F = F\n",
    "\n",
    "\n",
    "Akan dilakukan pada sebuah kode dibawah dengan menggunakan dua variabel, dimana a1 = 2 dan b1 = 5, dan keduanya akan dibandingkan apakah mereka lebih besar dari 0, beserta versi bilangan negatifnya, yakni -a1 dan -b1."
   ]
  },
  {
   "cell_type": "code",
   "execution_count": 36,
   "id": "bc749536",
   "metadata": {},
   "outputs": [
    {
     "name": "stdout",
     "output_type": "stream",
     "text": [
      "PERNYATAAN AND\n",
      "PERNYATAAN 1: 2>0 dan 5>0: True and True = True\n",
      "PERNYATAAN 2: -2>0 dan 5>0: False and True = False\n",
      "PERNYATAAN 3: 2>0 dan -5>0: True and False = False\n",
      "PERNYATAAN 4: -2>0 dan -5>0: False and False = False\n"
     ]
    }
   ],
   "source": [
    "# PERNYATAAN AND\n",
    "\n",
    "a1 = 2\n",
    "b1 = 5\n",
    "\n",
    "\n",
    "print(f'PERNYATAAN AND')\n",
    "print(f'PERNYATAAN 1: {a1}>0 dan {b1}>0: {bool(a1>0)} and {bool(b1>0)} = {(bool(a1>0 and b1>0))}')    \n",
    "print(f'PERNYATAAN 2: {-a1}>0 dan {b1}>0: {bool(-a1>0)} and {bool(b1>0)} = {(bool(-a1>0 and b1>0))}')\n",
    "print(f'PERNYATAAN 3: {a1}>0 dan {-b1}>0: {bool(a1>0)} and {bool(-b1>0)} = {(bool(a1>0 and -b1>0))}')\n",
    "print(f'PERNYATAAN 4: {-a1}>0 dan {-b1}>0: {bool(-a1>0)} and {bool(-b1>0)} = {(bool(-a1>0 and -b1>0))}')"
   ]
  },
  {
   "cell_type": "markdown",
   "id": "d6328afc",
   "metadata": {},
   "source": [
    "Seperti yang dijelaskan pada Markdown Operator And, nilai statement akan bernilai True jika semua statement yang dinyatakan bernilai True, dan bernilai False jika terdapat salah satu yang bernilai False. \n",
    "\n",
    "Untuk kasus lain, di bawah akan dilampirkan sebuah kode penerapan logical operator And pada conditional statement. Dua variabel input seperti x dan y akan dilibatkan sebagai percobaan:"
   ]
  },
  {
   "cell_type": "code",
   "execution_count": 44,
   "id": "1fd03952",
   "metadata": {},
   "outputs": [
    {
     "name": "stdout",
     "output_type": "stream",
     "text": [
      "Input angka pertama: 0\n",
      "Input angka kedua: 5\n",
      "False\n"
     ]
    }
   ],
   "source": [
    "x = int(input('Input angka pertama: '))\n",
    "y = int(input('Input angka kedua: '))\n",
    "\n",
    "# HANYA BERNILAI TRUE JIKA x dan y>0\n",
    "statement = bool(x>0 and y>0)\n",
    "        \n",
    "if(statement == True):\n",
    "    print('True')\n",
    "else:\n",
    "    print('False')    "
   ]
  },
  {
   "cell_type": "markdown",
   "id": "fca35edc",
   "metadata": {},
   "source": [
    "### OPERATOR OR\n",
    "Operator or dapat digunakan pada kriteria dimana pernyataan TRUE hanya terjadi jika semua pernyataan yang terlibat tidak bernilai False.\n",
    "\n",
    "Lebih simpelnya, hasil logika untuk \"and\" pada dua statement:\n",
    "\n",
    "P1 T and T = T\n",
    "\n",
    "P2 T and F = T\n",
    "\n",
    "P3 F and T = T\n",
    "\n",
    "P4 F and F = F\n"
   ]
  },
  {
   "cell_type": "code",
   "execution_count": 37,
   "id": "bd377cbb",
   "metadata": {},
   "outputs": [
    {
     "name": "stdout",
     "output_type": "stream",
     "text": [
      "PERNYATAAN OR\n",
      "PERNYATAAN 1: 2>0 atau 5>0: True or True = True\n",
      "PERNYATAAN 2: -2>0 atau 5>0: False or True = True\n",
      "PERNYATAAN 3: 2>0 atau -5>0: True or False = True\n",
      "PERNYATAAN 4: -2>0 atau -5>0: False or False = False\n"
     ]
    }
   ],
   "source": [
    "# PERNYATAAN OR\n",
    "\n",
    "a1 = 2\n",
    "b1 = 5\n",
    "\n",
    "print(f'PERNYATAAN OR')    \n",
    "print(f'PERNYATAAN 1: {a1}>0 atau {b1}>0: {bool(a1>0)} or {bool(b1>0)} = {(bool(a1>0 or b1>0))}')    \n",
    "print(f'PERNYATAAN 2: {-a1}>0 atau {b1}>0: {bool(-a1>0)} or {bool(b1>0)} = {(bool(-a1>0 or b1>0))}')\n",
    "print(f'PERNYATAAN 3: {a1}>0 atau {-b1}>0: {bool(a1>0)} or {bool(-b1>0)} = {(bool(a1>0 or -b1>0))}')\n",
    "print(f'PERNYATAAN 4: {-a1}>0 atau {-b1}>0: {bool(-a1>0)} or {bool(-b1>0)} = {(bool(-a1>0 or -b1>0))}')"
   ]
  },
  {
   "cell_type": "markdown",
   "id": "90db1649",
   "metadata": {},
   "source": [
    "### OPERATOR NOT\n",
    "\n",
    "not dapat digunakan untuk membalikkan sebuah value statement yang dianggap positif.\n",
    "\n",
    "Sebagai contoh, "
   ]
  },
  {
   "cell_type": "markdown",
   "id": "0bd60cea",
   "metadata": {},
   "source": [
    "## > Looping\n",
    "\n",
    "Ibaratkan kita mempunyai waktu sekolah sebanyak 5 hari dalam satu minggu. Kita masuk pada hari Senin, Selasa, Rabu, Kamis dan Jumat, sisanya libur pada Sabtu dan Minggu. Hari sekolah tidak akan berhenti sampai kita memasuki hari Sabtu dan Minggu, dan proses akan dimulai dan lanjut lagi jika kita kembali lagi pada hari Senin. \n",
    "\n",
    "Atau untuk lebih mudahnya, ketika kita lapar, kita makan. Ketika kita masih lapar, kita masih makan. Dan itu tidak akan berhenti sampai kita tidak lapar lagi (kenyang).\n",
    "\n",
    "Dari sini, saya ingin memberikan definisi looping sebagai proses yang dilakukan secara berulang dan sampai perulangan tersebut berhenti ketika suatu syarat untuk menghentikan perulangan tersebut terpenuhi. Dalam looping terdapat dua jenis"
   ]
  },
  {
   "cell_type": "markdown",
   "id": "a2b53d14",
   "metadata": {},
   "source": [
    "### FOR\n",
    "\n",
    "Proses looping for digunakan untuk melakukan proses perulangan yang mempunyai batasan. Di bawah merupakan contoh perulangan for dengan dua variabel. Perlu diperhatikan urutan penulisan kode berpengaruh besar!"
   ]
  },
  {
   "cell_type": "code",
   "execution_count": 56,
   "id": "22822800",
   "metadata": {},
   "outputs": [
    {
     "name": "stdout",
     "output_type": "stream",
     "text": [
      "4\n",
      "6\n",
      "8\n",
      "10\n",
      "12\n",
      " \n",
      "2\n",
      "4\n",
      "6\n",
      "8\n",
      "10\n"
     ]
    }
   ],
   "source": [
    "z = 2\n",
    "aa = 2\n",
    "\n",
    "for i in range(5):\n",
    "    z+=2\n",
    "    print(z)\n",
    "\n",
    "print(f' ')\n",
    "    \n",
    "for i in range(5):\n",
    "    print(aa)\n",
    "    aa+=2"
   ]
  },
  {
   "cell_type": "markdown",
   "id": "fbb508b3",
   "metadata": {},
   "source": [
    "### WHILE\n",
    "\n",
    "Proses Looping while dilakukan untuk melakukan perulangan sampai statement dinyatakan FalseSelagi conditional statement terbilang sebagai True, proses perulangan ini akan dilakukan terus menerus, alhasil terdapat istilah yang disebut Infinite Looping (Looping tak terbatas).\n",
    "\n",
    "Karena loopingnya yang bersifat tak terbatas, itu dapat dianggap sebagai sebuah error, dan cara menghentikannya adalah dengan sebuah kode yang disebut pada break pada sebuah statement yang diinginkan diberhentikan.\n",
    "\n",
    "Try sendiri mengajukan program untuk mencoba kondisi yang ingin dijalankan, sementara except digunakan untuk mencegah terjadinya error pada sistem jika seandainya kondisi tidak memenuhi try."
   ]
  },
  {
   "cell_type": "code",
   "execution_count": null,
   "metadata": {},
   "outputs": [],
   "source": [
    "while True:\n",
    "    try:\n",
    "        x = int(input('Input angka(1/2):'))\n",
    "        if x==1:\n",
    "            print(f'Ini Menu 1')\n",
    "        elif x==2:\n",
    "            print(f'Ini Menu 2')\n",
    "        else: print(f'Hanya ada menu 1 dan 2.')\n",
    "    except: #akan dieksekusi jika statement di dalam \"try\" bernilai error\n",
    "        print('Mohon masukkan angka 1 dan 2.')"
   ]
  }
 ],
 "metadata": {
  "kernelspec": {
   "display_name": "Python 3 (ipykernel)",
   "language": "python",
   "name": "python3"
  },
  "language_info": {
   "codemirror_mode": {
    "name": "ipython",
    "version": 3
   },
   "file_extension": ".py",
   "mimetype": "text/x-python",
   "name": "python",
   "nbconvert_exporter": "python",
   "pygments_lexer": "ipython3",
   "version": "3.11.5"
  }
 },
 "nbformat": 4,
 "nbformat_minor": 5
}
